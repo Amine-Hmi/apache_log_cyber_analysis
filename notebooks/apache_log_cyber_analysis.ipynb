{
 "cells": [
  {
   "cell_type": "code",
   "execution_count": null,
   "id": "8c40b7d6",
   "metadata": {
    "vscode": {
     "languageId": "plaintext"
    }
   },
   "outputs": [],
   "source": [
    "!pip install -r requirements.txt"
   ]
  },
  {
   "cell_type": "code",
   "execution_count": null,
   "id": "3d86a746",
   "metadata": {
    "vscode": {
     "languageId": "plaintext"
    }
   },
   "outputs": [],
   "source": [
    "import re\n",
    "import urllib.request\n",
    "import os\n",
    "import geoip2.database\n",
    "from pyspark.sql import SparkSession\n",
    "spark = SparkSession.builder.appName(\"LogAnalysis\").getOrCreate()\n",
    "sc = spark.sparkContext"
   ]
  },
  {
   "cell_type": "code",
   "execution_count": null,
   "id": "db957710",
   "metadata": {
    "vscode": {
     "languageId": "plaintext"
    }
   },
   "outputs": [],
   "source": [
    "log_path = \"/data/apache_logs.txt\"\n",
    "log_rdd = sc.textFile(log_path)"
   ]
  },
  {
   "cell_type": "code",
   "execution_count": null,
   "id": "9894ff7a",
   "metadata": {
    "vscode": {
     "languageId": "plaintext"
    }
   },
   "outputs": [],
   "source": [
    "log_pattern = re.compile(\n",
    "    r'^(\\S+) (\\S+) (\\S+) \\[(.*?)\\] \"(.*?)\" (\\d{3}) (\\S+)'\n",
    ")\n",
    "\n",
    "def parse_log(line):\n",
    "    match = log_pattern.match(line)\n",
    "    if match:\n",
    "        return {\n",
    "            \"ip\": match.group(1),\n",
    "            \"timestamp\": match.group(4),\n",
    "            \"request\": match.group(5),\n",
    "            \"status\": match.group(6),\n",
    "            \"bytes\": match.group(7)\n",
    "        }\n",
    "    else:\n",
    "        return None\n",
    "\n",
    "parsed_logs = log_rdd.map(parse_log).filter(lambda x: x is not None)"
   ]
  },
  {
   "cell_type": "code",
   "execution_count": null,
   "id": "9338abbd",
   "metadata": {
    "vscode": {
     "languageId": "plaintext"
    }
   },
   "outputs": [],
   "source": [
    "# Top 10 IPs by number of requests\n",
    "top_ips = (\n",
    "    parsed_logs.map(lambda log: (log[\"ip\"], 1))\n",
    "    .reduceByKey(lambda a, b: a + b)\n",
    "    .takeOrdered(10, key=lambda x: -x[1])\n",
    ")\n",
    "\n",
    "print(\"Top 10 IPs:\")\n",
    "for ip, count in top_ips:\n",
    "    print(f\"{ip}: {count}\")\n",
    "\n",
    "# Count of status codes\n",
    "status_counts = (\n",
    "    parsed_logs.map(lambda log: (log[\"status\"], 1))\n",
    "    .reduceByKey(lambda a, b: a + b)\n",
    "    .collect()\n",
    ")\n",
    "\n",
    "print(\"\\nHTTP Status Code Breakdown:\")\n",
    "for status, count in status_counts:\n",
    "    print(f\"{status}: {count}\")\n"
   ]
  },
  {
   "cell_type": "code",
   "execution_count": null,
   "id": "95b20e46",
   "metadata": {
    "vscode": {
     "languageId": "plaintext"
    }
   },
   "outputs": [],
   "source": [
    "# IPs with more than 100 requests\n",
    "suspicious_ips = (\n",
    "    parsed_logs.map(lambda log: (log[\"ip\"], 1))\n",
    "    .reduceByKey(lambda a, b: a + b)\n",
    "    .filter(lambda x: x[1] > 100)\n",
    "    .collect()\n",
    ")\n",
    "\n",
    "print(\"\\nSuspicious IPs (more than 100 requests):\")\n",
    "for ip, count in suspicious_ips:\n",
    "    print(f\"{ip}: {count}\")\n",
    "\n",
    "auth_failures = (\n",
    "    parsed_logs.filter(lambda log: log[\"status\"] in [\"401\", \"403\", \"400\",\"404\"])\n",
    "               .map(lambda log: (log[\"ip\"], 1))\n",
    "               .reduceByKey(lambda a, b: a + b)\n",
    "               .filter(lambda x: x[1] > 10)\n",
    "               .collect()\n",
    ")\n",
    "\n",
    "print(\"\\nAuth Failures IPs :\")\n",
    "for ip, count in auth_failures:\n",
    "    print(f\"{ip}: {count}\")"
   ]
  },
  {
   "cell_type": "code",
   "execution_count": null,
   "id": "203ef740",
   "metadata": {
    "vscode": {
     "languageId": "plaintext"
    }
   },
   "outputs": [],
   "source": [
    "# GeoIP Lookup (requires GeoLite2 database)\n",
    "geoip_db_path = \"/data/GeoLite2-ASN.mmdb\"\n",
    "\n",
    "if not os.path.exists(geoip_db_path):\n",
    "    print(\"\\nGeoIP database not found. Please download the GeoLite2-City.mmdb file from MaxMind and upload to /tmp.\")\n",
    "else:\n",
    "    reader = geoip2.database.Reader(geoip_db_path)\n",
    "\n",
    "\n",
    "def ip_to_country(ip):\n",
    "    try:\n",
    "        response = reader.asn(ip)\n",
    "        return f\"ASN: {response.autonomous_system_number}, Org: {response.autonomous_system_organization}\"\n",
    "    except Exception as e:\n",
    "        print(f\"Lookup failed for {ip}: {e}\")\n",
    "        return \"Unknown\""
   ]
  },
  {
   "cell_type": "code",
   "execution_count": null,
   "id": "cb4d3240",
   "metadata": {
    "vscode": {
     "languageId": "plaintext"
    }
   },
   "outputs": [],
   "source": [
    "# Example: enrich suspicious IPs with country info\n",
    "print(\"\\nSuspicious IPs with GeoIP Lookup:\")\n",
    "for ip, count in suspicious_ips:\n",
    "    print(f\"{ip}: {count} requests - {ip_to_country(ip)}\")"
   ]
  },
  {
   "cell_type": "code",
   "execution_count": null,
   "id": "5aafaea1",
   "metadata": {
    "vscode": {
     "languageId": "plaintext"
    }
   },
   "outputs": [],
   "source": [
    "# Plot Top IPs\n",
    "plt.figure(figsize=(8, 4))\n",
    "df_top_ips.plot(kind='bar', x='IP', y='Requests', legend=False, color='orange')\n",
    "plt.title(\"Top 10 IPs by Request Count\")\n",
    "plt.ylabel(\"Requests\")\n",
    "plt.xlabel(\"IP Address\")\n",
    "plt.xticks(rotation=45)\n",
    "plt.tight_layout()\n",
    "plt.show()\n",
    "\n",
    "# Status Code Pie Chart\n",
    "plt.figure(figsize=(6, 6))\n",
    "plt.pie(df_status['Count'], labels=df_status['Status'], autopct='%1.1f%%', startangle=90)\n",
    "plt.title(\"HTTP Status Code Distribution\")\n",
    "plt.axis('equal')\n",
    "plt.show()\n",
    "\n",
    "# Display Tables\n",
    "print(\"\\n🔍 Suspicious IPs (w/ ASN info if available):\")\n",
    "print(df_suspicious)\n",
    "\n",
    "print(\"\\n🔐 Repeated Authorization Failures:\")\n",
    "print(df_auth_failures)\n"
   ]
  }
 ],
 "metadata": {
  "language_info": {
   "name": "python"
  }
 },
 "nbformat": 4,
 "nbformat_minor": 5
}
